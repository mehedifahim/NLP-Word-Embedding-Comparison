{
 "cells": [
  {
   "cell_type": "code",
   "execution_count": 1,
   "id": "bd159c0f",
   "metadata": {
    "id": "bd159c0f"
   },
   "outputs": [],
   "source": [
    "import numpy as np\n",
    "import pandas as pd\n",
    "import nltk\n",
    "from nltk.corpus import stopwords\n",
    "from numpy import array\n",
    "import tensorflow as tf\n",
    "from keras.preprocessing.text import Tokenizer\n",
    "from keras.models import Sequential\n",
    "from keras.layers import Activation,Dense, Embedding, GRU\n",
    "from sklearn.model_selection import train_test_split\n",
    "\n",
    "from tensorflow.keras.preprocessing.sequence import pad_sequences"
   ]
  },
  {
   "cell_type": "code",
   "execution_count": 2,
   "id": "5f5d0e09",
   "metadata": {
    "id": "5f5d0e09"
   },
   "outputs": [],
   "source": [
    "df = pd.read_csv('C:\\\\Users\\\\21341038\\\\Downloads\\\\SarcasDetection.csv' )\n"
   ]
  },
  {
   "cell_type": "code",
   "execution_count": 3,
   "id": "fa676aab",
   "metadata": {
    "id": "fa676aab",
    "outputId": "1b28e31a-7e50-47c5-9171-20616ad67f6b"
   },
   "outputs": [
    {
     "data": {
      "text/html": [
       "<div>\n",
       "<style scoped>\n",
       "    .dataframe tbody tr th:only-of-type {\n",
       "        vertical-align: middle;\n",
       "    }\n",
       "\n",
       "    .dataframe tbody tr th {\n",
       "        vertical-align: top;\n",
       "    }\n",
       "\n",
       "    .dataframe thead th {\n",
       "        text-align: right;\n",
       "    }\n",
       "</style>\n",
       "<table border=\"1\" class=\"dataframe\">\n",
       "  <thead>\n",
       "    <tr style=\"text-align: right;\">\n",
       "      <th></th>\n",
       "      <th>Unnamed: 0</th>\n",
       "      <th>Comments</th>\n",
       "      <th>Label</th>\n",
       "    </tr>\n",
       "  </thead>\n",
       "  <tbody>\n",
       "    <tr>\n",
       "      <th>0</th>\n",
       "      <td>0</td>\n",
       "      <td>আমি মনে করি যখন মেয়েরা উদ্দেশ্য অনুসারে বোবা ...</td>\n",
       "      <td>1.0</td>\n",
       "    </tr>\n",
       "    <tr>\n",
       "      <th>1</th>\n",
       "      <td>1</td>\n",
       "      <td>আমি যখন কোনও গুরুত্বপূর্ণ প্রশ্ন জিজ্ঞাসা করি ...</td>\n",
       "      <td>1.0</td>\n",
       "    </tr>\n",
       "    <tr>\n",
       "      <th>2</th>\n",
       "      <td>2</td>\n",
       "      <td>বাহ ... আমি দেখতে দেখতে পাচ্ছি সত্যিই দোষী দোষ...</td>\n",
       "      <td>1.0</td>\n",
       "    </tr>\n",
       "    <tr>\n",
       "      <th>3</th>\n",
       "      <td>3</td>\n",
       "      <td>হাহ, মজার বিষয়।#আনোয়েড #গ্রুআপ</td>\n",
       "      <td>1.0</td>\n",
       "    </tr>\n",
       "    <tr>\n",
       "      <th>4</th>\n",
       "      <td>4</td>\n",
       "      <td>থান্ডার আমাকে 830 এ জেগে উঠলে এটি ভালবাসুন</td>\n",
       "      <td>1.0</td>\n",
       "    </tr>\n",
       "    <tr>\n",
       "      <th>5</th>\n",
       "      <td>5</td>\n",
       "      <td>আজ আমাকে খোদাই করার জন্য ধন্যবাদ, যথাযথ ভাল বন...</td>\n",
       "      <td>1.0</td>\n",
       "    </tr>\n",
       "    <tr>\n",
       "      <th>6</th>\n",
       "      <td>6</td>\n",
       "      <td>আমি এমন পরিকল্পনাগুলি পছন্দ করি যা কখনই ঘটে না...</td>\n",
       "      <td>1.0</td>\n",
       "    </tr>\n",
       "    <tr>\n",
       "      <th>7</th>\n",
       "      <td>7</td>\n",
       "      <td>আমি যখন কাউকে দীর্ঘশ্বাস শুনি, ‘জীবন কঠিন,’ আম...</td>\n",
       "      <td>1.0</td>\n",
       "    </tr>\n",
       "    <tr>\n",
       "      <th>8</th>\n",
       "      <td>8</td>\n",
       "      <td>আমি বলছি না আমি আপনাকে ঘৃণা করি, আমি যা বলছি ত...</td>\n",
       "      <td>1.0</td>\n",
       "    </tr>\n",
       "    <tr>\n",
       "      <th>9</th>\n",
       "      <td>9</td>\n",
       "      <td>আমি এখনই ব্যস্ত, আমি কি আপনাকে অন্য কোনও সময় ...</td>\n",
       "      <td>1.0</td>\n",
       "    </tr>\n",
       "  </tbody>\n",
       "</table>\n",
       "</div>"
      ],
      "text/plain": [
       "   Unnamed: 0                                           Comments  Label\n",
       "0           0  আমি মনে করি যখন মেয়েরা উদ্দেশ্য অনুসারে বোবা ...    1.0\n",
       "1           1  আমি যখন কোনও গুরুত্বপূর্ণ প্রশ্ন জিজ্ঞাসা করি ...    1.0\n",
       "2           2  বাহ ... আমি দেখতে দেখতে পাচ্ছি সত্যিই দোষী দোষ...    1.0\n",
       "3           3                   হাহ, মজার বিষয়।#আনোয়েড #গ্রুআপ    1.0\n",
       "4           4         থান্ডার আমাকে 830 এ জেগে উঠলে এটি ভালবাসুন    1.0\n",
       "5           5  আজ আমাকে খোদাই করার জন্য ধন্যবাদ, যথাযথ ভাল বন...    1.0\n",
       "6           6  আমি এমন পরিকল্পনাগুলি পছন্দ করি যা কখনই ঘটে না...    1.0\n",
       "7           7  আমি যখন কাউকে দীর্ঘশ্বাস শুনি, ‘জীবন কঠিন,’ আম...    1.0\n",
       "8           8  আমি বলছি না আমি আপনাকে ঘৃণা করি, আমি যা বলছি ত...    1.0\n",
       "9           9  আমি এখনই ব্যস্ত, আমি কি আপনাকে অন্য কোনও সময় ...    1.0"
      ]
     },
     "execution_count": 3,
     "metadata": {},
     "output_type": "execute_result"
    }
   ],
   "source": [
    "df.head(10)"
   ]
  },
  {
   "cell_type": "code",
   "execution_count": 4,
   "id": "593b2aa5",
   "metadata": {
    "id": "593b2aa5",
    "outputId": "2afdc6eb-d3cf-46e7-df03-68637c97ed04"
   },
   "outputs": [
    {
     "data": {
      "text/plain": [
       "<Axes: xlabel='Label', ylabel='count'>"
      ]
     },
     "execution_count": 4,
     "metadata": {},
     "output_type": "execute_result"
    },
    {
     "data": {
      "image/png": "[encoded data removed]",
      "text/plain": [
       "<Figure size 640x480 with 1 Axes>"
      ]
     },
     "metadata": {},
     "output_type": "display_data"
    }
   ],
   "source": [
    "import seaborn as sns\n",
    "sns.countplot(x='Label', data=df)"
   ]
  },
  {
   "cell_type": "code",
   "execution_count": 5,
   "id": "957021ce",
   "metadata": {
    "id": "957021ce"
   },
   "outputs": [],
   "source": [
    "X = list(df['Comments'])"
   ]
  },
  {
   "cell_type": "code",
   "execution_count": 6,
   "id": "f53e3ac8",
   "metadata": {
    "id": "f53e3ac8",
    "outputId": "2c8297b5-f8fc-41d8-db7f-51fb36b95804"
   },
   "outputs": [],
   "source": [
    "y = df['Label']\n"
   ]
  },
  {
   "cell_type": "code",
   "execution_count": 7,
   "id": "a55b441c",
   "metadata": {
    "id": "a55b441c"
   },
   "outputs": [],
   "source": [
    "X_train, X_test, y_train, y_test = train_test_split(X, y, test_size=0.10, random_state=42)"
   ]
  },
  {
   "cell_type": "code",
   "execution_count": 8,
   "id": "3abdf42f",
   "metadata": {
    "id": "3abdf42f"
   },
   "outputs": [],
   "source": [
    "word_tokenizer = Tokenizer()\n",
    "word_tokenizer.fit_on_texts(X_train)\n",
    "\n",
    "X_train = word_tokenizer.texts_to_sequences(X_train)\n",
    "X_test = word_tokenizer.texts_to_sequences(X_test)\n"
   ]
  },
  {
   "cell_type": "code",
   "execution_count": 9,
   "id": "4c8a318f",
   "metadata": {
    "id": "4c8a318f",
    "outputId": "821246a7-e46a-4e30-8f24-e3880ea15a1d"
   },
   "outputs": [
    {
     "data": {
      "text/plain": [
       "12519"
      ]
     },
     "execution_count": 9,
     "metadata": {},
     "output_type": "execute_result"
    }
   ],
   "source": [
    "vocab_length = len(word_tokenizer.word_index) + 1\n",
    "\n",
    "vocab_length"
   ]
  },
  {
   "cell_type": "code",
   "execution_count": 10,
   "id": "5cf7bb5f",
   "metadata": {
    "id": "5cf7bb5f"
   },
   "outputs": [],
   "source": [
    "maxlen = 100\n",
    "\n",
    "X_train = pad_sequences(X_train, padding='post', maxlen=maxlen)\n",
    "X_test = pad_sequences(X_test, padding='post', maxlen=maxlen)"
   ]
  },
  {
   "cell_type": "code",
   "execution_count": 11,
   "id": "b44925ac",
   "metadata": {
    "id": "b44925ac"
   },
   "outputs": [],
   "source": [
    "from numpy import asarray\n",
    "from numpy import zeros"
   ]
  },
  {
   "cell_type": "code",
   "execution_count": 12,
   "id": "f3d35f64",
   "metadata": {
    "id": "f3d35f64"
   },
   "outputs": [],
   "source": [
    "embeddings_index = {}\n",
    "with open('C:\\\\Users\\\\21341038\\\\Downloads\\\\bn_glove.39M.300d.txt', encoding='utf-8') as f:\n",
    "    for line in f:\n",
    "        values = line.split()\n",
    "        word = values[0]\n",
    "        coefs = np.asarray(values[1:], dtype='float32')\n",
    "        embeddings_index[word] = coefs\n"
   ]
  },
  {
   "cell_type": "code",
   "execution_count": 13,
   "id": "ad8345a9",
   "metadata": {
    "id": "ad8345a9"
   },
   "outputs": [],
   "source": [
    "embedding_matrix = zeros((vocab_length, 300))\n",
    "for word, index in word_tokenizer.word_index.items():\n",
    "    embedding_vector = embeddings_index.get(word)\n",
    "    if embedding_vector is not None:\n",
    "        embedding_matrix[index] = embedding_vector\n"
   ]
  },
  {
   "cell_type": "code",
   "execution_count": 14,
   "id": "e2a76ccd",
   "metadata": {
    "id": "e2a76ccd",
    "outputId": "5fe8e81d-836c-4c75-d77b-180002cab502"
   },
   "outputs": [
    {
     "name": "stdout",
     "output_type": "stream",
     "text": [
      "[[ 0.          0.          0.         ...  0.          0.\n",
      "   0.        ]\n",
      " [ 0.242119   -0.197923    0.066564   ...  0.113951   -0.074198\n",
      "   0.77122903]\n",
      " [ 0.096394    0.38893801  0.35681501 ... -0.02118    -0.21176399\n",
      "  -0.42254901]\n",
      " ...\n",
      " [ 0.          0.          0.         ...  0.          0.\n",
      "   0.        ]\n",
      " [-0.058507   -0.26494199  0.096581   ... -0.030044    0.167257\n",
      "   0.063862  ]\n",
      " [-0.18411601 -0.194653    0.122052   ... -0.116897   -0.389382\n",
      "   0.27348301]]\n"
     ]
    }
   ],
   "source": [
    "print(embedding_matrix)"
   ]
  },
  {
   "cell_type": "code",
   "execution_count": 15,
   "id": "88897f03",
   "metadata": {
    "id": "88897f03"
   },
   "outputs": [],
   "source": [
    "#BI GRU"
   ]
  },
  {
   "cell_type": "code",
   "execution_count": 16,
   "id": "5becded6",
   "metadata": {
    "id": "5becded6",
    "outputId": "f32c547f-3adb-4b7a-dc49-7c6f6d7ba28f",
    "scrolled": true
   },
   "outputs": [
    {
     "name": "stdout",
     "output_type": "stream",
     "text": [
      "Model: \"sequential\"\n",
      "_________________________________________________________________\n",
      " Layer (type)                Output Shape              Param #   \n",
      "=================================================================\n",
      " embedding (Embedding)       (None, 100, 300)          3755700   \n",
      "                                                                 \n",
      " bidirectional (Bidirection  (None, 100, 512)          857088    \n",
      " al)                                                             \n",
      "                                                                 \n",
      " bidirectional_1 (Bidirecti  (None, 512)               1182720   \n",
      " onal)                                                           \n",
      "                                                                 \n",
      " dense (Dense)               (None, 128)               65664     \n",
      "                                                                 \n",
      " dense_1 (Dense)             (None, 1)                 129       \n",
      "                                                                 \n",
      "=================================================================\n",
      "Total params: 5861301 (22.36 MB)\n",
      "Trainable params: 2105601 (8.03 MB)\n",
      "Non-trainable params: 3755700 (14.33 MB)\n",
      "_________________________________________________________________\n"
     ]
    }
   ],
   "source": [
    "model_bigru = tf.keras.Sequential([\n",
    "    tf.keras.layers.Embedding(vocab_length, 300, input_length=maxlen, weights=[embedding_matrix], trainable=False),\n",
    "    tf.keras.layers.Bidirectional(tf.keras.layers.GRU(256, return_sequences=True)),\n",
    "    tf.keras.layers.Bidirectional(tf.keras.layers.GRU(256)),\n",
    "    tf.keras.layers.Dense(128, activation='relu'),\n",
    "    tf.keras.layers.Dense(1, activation='sigmoid')\n",
    "])\n",
    "model_bigru.compile(loss='binary_crossentropy',optimizer='adam',metrics=['accuracy'])\n",
    "model_bigru.summary()"
   ]
  },
  {
   "cell_type": "code",
   "execution_count": 17,
   "id": "42877105",
   "metadata": {
    "id": "42877105",
    "outputId": "2e8115d5-3d4d-44c3-e7d4-f6e5d927839b",
    "scrolled": true
   },
   "outputs": [
    {
     "name": "stdout",
     "output_type": "stream",
     "text": [
      "Epoch 1/15\n",
      "65/65 [==============================] - 103s 1s/step - loss: 0.2948 - accuracy: 0.8739 - val_loss: 0.1962 - val_accuracy: 0.9152\n",
      "Epoch 2/15\n",
      "65/65 [==============================] - 131s 2s/step - loss: 0.1684 - accuracy: 0.9367 - val_loss: 0.1954 - val_accuracy: 0.9239\n",
      "Epoch 3/15\n",
      "65/65 [==============================] - 157s 2s/step - loss: 0.1121 - accuracy: 0.9568 - val_loss: 0.1721 - val_accuracy: 0.9370\n",
      "Epoch 4/15\n",
      "65/65 [==============================] - 160s 2s/step - loss: 0.0942 - accuracy: 0.9630 - val_loss: 0.1723 - val_accuracy: 0.9435\n",
      "Epoch 5/15\n",
      "65/65 [==============================] - 162s 2s/step - loss: 0.0559 - accuracy: 0.9819 - val_loss: 0.1763 - val_accuracy: 0.9326\n",
      "Epoch 6/15\n",
      "65/65 [==============================] - 164s 3s/step - loss: 0.0348 - accuracy: 0.9862 - val_loss: 0.2197 - val_accuracy: 0.9348\n",
      "Epoch 7/15\n",
      "65/65 [==============================] - 156s 2s/step - loss: 0.0245 - accuracy: 0.9928 - val_loss: 0.2499 - val_accuracy: 0.9348\n",
      "Epoch 8/15\n",
      "65/65 [==============================] - 165s 3s/step - loss: 0.0222 - accuracy: 0.9928 - val_loss: 0.2175 - val_accuracy: 0.9413\n",
      "Epoch 9/15\n",
      "65/65 [==============================] - 168s 3s/step - loss: 0.0229 - accuracy: 0.9915 - val_loss: 0.2734 - val_accuracy: 0.9478\n",
      "Epoch 10/15\n",
      "65/65 [==============================] - 167s 3s/step - loss: 0.0141 - accuracy: 0.9961 - val_loss: 0.2391 - val_accuracy: 0.9478\n",
      "Epoch 11/15\n",
      "65/65 [==============================] - 165s 3s/step - loss: 0.0105 - accuracy: 0.9964 - val_loss: 0.3170 - val_accuracy: 0.9326\n",
      "Epoch 12/15\n",
      "65/65 [==============================] - 162s 2s/step - loss: 0.0204 - accuracy: 0.9935 - val_loss: 0.1823 - val_accuracy: 0.9500\n",
      "Epoch 13/15\n",
      "65/65 [==============================] - 158s 2s/step - loss: 0.0048 - accuracy: 0.9988 - val_loss: 0.2736 - val_accuracy: 0.9478\n",
      "Epoch 14/15\n",
      "65/65 [==============================] - 157s 2s/step - loss: 5.9214e-04 - accuracy: 1.0000 - val_loss: 0.2996 - val_accuracy: 0.9391\n",
      "Epoch 15/15\n",
      "65/65 [==============================] - 157s 2s/step - loss: 1.0380e-04 - accuracy: 1.0000 - val_loss: 0.3376 - val_accuracy: 0.9413\n"
     ]
    }
   ],
   "source": [
    "history_bigru = model_bigru.fit(X_train, y_train, batch_size=64, epochs=15, verbose=1, validation_split=0.1)"
   ]
  },
  {
   "cell_type": "code",
   "execution_count": 18,
   "id": "15ee59f2",
   "metadata": {
    "id": "15ee59f2",
    "outputId": "46e5b402-2344-4776-991f-a56d6f6d6510"
   },
   "outputs": [
    {
     "name": "stdout",
     "output_type": "stream",
     "text": [
      "16/16 [==============================] - 5s 284ms/step - loss: 0.4477 - accuracy: 0.9414\n"
     ]
    }
   ],
   "source": [
    "score = model_bigru.evaluate(X_test, y_test, verbose=1)"
   ]
  },
  {
   "cell_type": "code",
   "execution_count": 19,
   "id": "0fb09f90",
   "metadata": {
    "id": "0fb09f90"
   },
   "outputs": [],
   "source": [
    "import matplotlib.pyplot as plt"
   ]
  },
  {
   "cell_type": "code",
   "execution_count": 20,
   "id": "3d2a79e3",
   "metadata": {
    "id": "3d2a79e3"
   },
   "outputs": [],
   "source": [
    "from sklearn.metrics import confusion_matrix"
   ]
  },
  {
   "cell_type": "code",
   "execution_count": 21,
   "id": "abc42278",
   "metadata": {
    "id": "abc42278",
    "outputId": "48f6b67d-20cb-440e-abb2-faf2e6dbf046"
   },
   "outputs": [
    {
     "name": "stdout",
     "output_type": "stream",
     "text": [
      "16/16 [==============================] - 5s 253ms/step\n"
     ]
    }
   ],
   "source": [
    "y_pred_proba = model_bigru.predict(X_test)\n",
    "y_pred = np.round(y_pred_proba)\n"
   ]
  },
  {
   "cell_type": "code",
   "execution_count": 22,
   "id": "5f9009d0",
   "metadata": {
    "id": "5f9009d0",
    "outputId": "f7cc22c7-2367-4853-949c-542331ca4747"
   },
   "outputs": [
    {
     "name": "stdout",
     "output_type": "stream",
     "text": [
      "Macro-averaged Precision:  0.9383547662788324\n",
      "Macro-averaged Recall:  0.9408467162505725\n",
      "Macro-averaged F1-score:  0.9395380327817229\n"
     ]
    }
   ],
   "source": [
    "from sklearn.metrics import f1_score, precision_score, recall_score\n",
    "\n",
    "\n",
    "precision_macro = precision_score(y_test, y_pred, average='macro')\n",
    "recall_macro = recall_score(y_test, y_pred, average='macro')\n",
    "f1_macro = f1_score(y_test, y_pred, average='macro')\n",
    "\n",
    "print(\"Macro-averaged Precision: \", precision_macro)\n",
    "print(\"Macro-averaged Recall: \", recall_macro)\n",
    "print(\"Macro-averaged F1-score: \", f1_macro)\n"
   ]
  },
  {
   "cell_type": "code",
   "execution_count": 23,
   "id": "31bf76a3",
   "metadata": {
    "id": "31bf76a3",
    "outputId": "8aec79df-006a-4823-8e15-fb9cb9e78169"
   },
   "outputs": [
    {
     "data": {
      "image/png": "[encoded data removed]",
      "text/plain": [
       "<Figure size 640x480 with 2 Axes>"
      ]
     },
     "metadata": {},
     "output_type": "display_data"
    },
    {
     "name": "stdout",
     "output_type": "stream",
     "text": [
      "[[286  17]\n",
      " [ 13 196]]\n"
     ]
    }
   ],
   "source": [
    "import seaborn as sns\n",
    "import numpy as np\n",
    "import matplotlib.pyplot as plt\n",
    "\n",
    "def plot_confusion_matrix(cm, labels):\n",
    "    sns.set()\n",
    "    fig, ax = plt.subplots()\n",
    "    ax = sns.heatmap(cm, annot=True, cmap=\"Blues\", fmt=\".2f\", cbar=False)\n",
    "\n",
    "    # Set tick labels to string labels\n",
    "    tick_labels = np.arange(len(labels))\n",
    "    ax.set_xticklabels(labels)\n",
    "    ax.set_yticklabels(labels)\n",
    "    ax.set_xticks(tick_labels + 0.5)\n",
    "    ax.set_yticks(tick_labels + 0.5)\n",
    "\n",
    "    # Add colorbar\n",
    "    cbar = ax.figure.colorbar(ax.collections[0])\n",
    "    cbar.ax.set_ylabel('Normalized Values', rotation=270, labelpad=15)\n",
    "\n",
    "    plt.xlabel('Predicted Label')\n",
    "    plt.ylabel('True Label')\n",
    "    plt.show()\n",
    "\n",
    "# Example usage:\n",
    "cm = confusion_matrix(y_test, y_pred)\n",
    "cm_norm = cm.astype('float') / cm.sum(axis=1)[:, np.newaxis]\n",
    "\n",
    "labels = ['not Sarcasm', 'Sarcasm']\n",
    "plot_confusion_matrix(cm_norm, labels)\n",
    "print(cm)"
   ]
  },
  {
   "cell_type": "code",
   "execution_count": null,
   "id": "0ab7e8ca",
   "metadata": {},
   "outputs": [],
   "source": []
  }
 ],
 "metadata": {
  "colab": {
   "provenance": []
  },
  "kernelspec": {
   "display_name": "Python 3 (ipykernel)",
   "language": "python",
   "name": "python3"
  },
  "language_info": {
   "codemirror_mode": {
    "name": "ipython",
    "version": 3
   },
   "file_extension": ".py",
   "mimetype": "text/x-python",
   "name": "python",
   "nbconvert_exporter": "python",
   "pygments_lexer": "ipython3",
   "version": "3.10.11"
  }
 },
 "nbformat": 4,
 "nbformat_minor": 5
}
